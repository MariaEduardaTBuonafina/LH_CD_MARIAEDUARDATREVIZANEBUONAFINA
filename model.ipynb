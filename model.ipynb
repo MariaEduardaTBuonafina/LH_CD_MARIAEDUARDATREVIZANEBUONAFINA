{
 "cells": [
  {
   "cell_type": "code",
   "execution_count": 1,
   "id": "9dcefeb7-1801-4818-91f6-549abecd9e34",
   "metadata": {},
   "outputs": [],
   "source": [
    "import pickle # Esse import ele é usado para salvar e carregar objetos python (como modelos treinados) em arquivos .pkl (como foi peço no desafio) \n",
    "from sklearn.linear_model import LinearRegression # Aqui ele importa o modelo de regressão linear da biblioteca scikit-learn\n",
    "from sklearn.model_selection import train_test_split # Essa é uma função que vai dividir os dados em conjuntos de treino e teste\n",
    "from sklearn.metrics import mean_squared_error, r2_score # O mean_squared_error vai calcular o erro médio ao quadrado entre o valor previsto e o valor real, e quanto menor melhor.\n",
    "# O r2_score ele vai retornar um valor entre 0 e 1 que mostra o quão bem o modelo explica os dados, e quanto mais próximo de 1 melhor."
   ]
  },
  {
   "cell_type": "code",
   "execution_count": 2,
   "id": "2c5da3c0-afaf-4b9b-8ea7-c6128a349b47",
   "metadata": {},
   "outputs": [],
   "source": [
    "def train_model(df, features, target):\n",
    "    \"\"\"\n",
    "    Essa função ela serve para treinar um modelo de regressão linear simples.\n",
    "    Eu usei a regressão linear porque é mais fácil de entender e ela serve para\n",
    "    prever números, que no caso é o que a gente quer que é a nota do IMDB.\n",
    "    \"\"\"\n",
    "\n",
    "    # Aqui eu separei as variáveis independentes (que são as features) e a variávei que eu quero prever (que é o target)\n",
    "    x = df[features]\n",
    "    y = df[target]\n",
    "\n",
    "    # Aqui agora eu dividi os dados em treino e teste para avaliar o modelo depois\n",
    "    X_train, X_test, y_train, y_test = train_test_split(X, y, test_size=0.2, random_state=42)\n",
    "\n",
    "    # Aqui eu criei o modelo de regressão linear e treinei com os dados de treino\n",
    "    model = LinearRegression()\n",
    "    model.fir(X_train, y_train)\n",
    "\n",
    "    # Agora aqui eu fiz a previsão com os dados de teste para ver como o modelo se saiu\n",
    "    y_pred = model.predict(X_test)\n",
    "\n",
    "    # Aqi eu calculei o erro médio quadrático raiz (o RMSE) para medir o erro das previsões\n",
    "    rmse = mean_squared_error(y_test, y_pred, squared=False)\n",
    "\n",
    "    # Agora aqui eu calculei o R2 para ver quanto da variação da nota o modelo explica (como eu disse la em cima quanto mais perto de 1 melhor)\n",
    "    r2 = r2_score(y_test, y_pred)\n",
    "\n",
    "    # Aqui por fim dessa função eu retornei o modelo treinado e as métricas para analisar depois\n",
    "    return model, rmse, r2"
   ]
  },
  {
   "cell_type": "code",
   "execution_count": 3,
   "id": "ad580d8b-c5e7-457e-b868-fb6cf6a6728d",
   "metadata": {},
   "outputs": [],
   "source": [
    "def save_model(model, filepath):\n",
    "    \"\"\"\n",
    "    Usei essa função para salvar o modelo treinado em um arquivo .pkl (que é um\n",
    "    dos critérios do desadio, pois assim a gente pode usar ele depois sem \n",
    "    precisar treinar tudo de novo.\n",
    "    \"\"\"\n",
    "\n",
    "    with open(filepath, 'wb') as f:\n",
    "        pickle.dump(model, f)"
   ]
  },
  {
   "cell_type": "code",
   "execution_count": null,
   "id": "3b5ab86f-50fb-4e2e-87da-ef171bff8158",
   "metadata": {},
   "outputs": [],
   "source": []
  }
 ],
 "metadata": {
  "kernelspec": {
   "display_name": "Python 3 (ipykernel)",
   "language": "python",
   "name": "python3"
  },
  "language_info": {
   "codemirror_mode": {
    "name": "ipython",
    "version": 3
   },
   "file_extension": ".py",
   "mimetype": "text/x-python",
   "name": "python",
   "nbconvert_exporter": "python",
   "pygments_lexer": "ipython3",
   "version": "3.13.5"
  }
 },
 "nbformat": 4,
 "nbformat_minor": 5
}
