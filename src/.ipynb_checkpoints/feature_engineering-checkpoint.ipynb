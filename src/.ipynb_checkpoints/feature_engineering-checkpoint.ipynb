{
 "cells": [
  {
   "cell_type": "code",
   "execution_count": 1,
   "id": "8d2c93c7-c308-4b2c-bcdf-d65908708e9d",
   "metadata": {},
   "outputs": [],
   "source": [
    "def split_genres(df):\n",
    "    \"\"\"\n",
    "    Aqui eu criei uma função para transformar a coluna 'Genre' que vem como texto\n",
    "    separado por vírgula em uma lista de gêneros. Isso ajuda a analisar os gêneros\n",
    "    individualmente depois.\n",
    "    \"\"\"\n",
    "\n",
    "    # Aqui eu usei o split para separar os gêneros em uma lista\n",
    "    df['Genre_list'] = df['Genre'].str.split(', ')\n",
    "    return df"
   ]
  },
  {
   "cell_type": "code",
   "execution_count": 3,
   "id": "3c8efcaa-f3d9-4a5b-b9ac-2aea98eb365b",
   "metadata": {},
   "outputs": [],
   "source": [
    "def extract_main_genre(df):\n",
    "    \"\"\"\n",
    "    Como alguns filmes tem vários gêneros, eu criei essa função para pegar só o \n",
    "    primeiro gênero que foi listado e que geralmente é o principal. Isso facilita\n",
    "    a fazer os gráficos e as análisis por gênero.\n",
    "    \"\"\"\n",
    "\n",
    "    # Aqui eu pego o primeiro gênero da lista se ele existir\n",
    "    df['Main_Genre'] = df['Genre_list'].apply(lambda x: x[0] if isinstance(x, list) else None)\n",
    "    return df"
   ]
  },
  {
   "cell_type": "code",
   "execution_count": null,
   "id": "10e70b34-0d47-42dd-9623-966b86dfb9a1",
   "metadata": {},
   "outputs": [],
   "source": []
  }
 ],
 "metadata": {
  "kernelspec": {
   "display_name": "Python 3 (ipykernel)",
   "language": "python",
   "name": "python3"
  },
  "language_info": {
   "codemirror_mode": {
    "name": "ipython",
    "version": 3
   },
   "file_extension": ".py",
   "mimetype": "text/x-python",
   "name": "python",
   "nbconvert_exporter": "python",
   "pygments_lexer": "ipython3",
   "version": "3.13.5"
  }
 },
 "nbformat": 4,
 "nbformat_minor": 5
}
