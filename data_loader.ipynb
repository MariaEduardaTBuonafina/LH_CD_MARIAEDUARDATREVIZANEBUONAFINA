{
 "cells": [
  {
   "cell_type": "code",
   "execution_count": 5,
   "id": "55da86a3-a799-404f-aa27-22395ba50fae",
   "metadata": {},
   "outputs": [],
   "source": [
    "# Primeiro vou importar algumas bibliotecas que vou usar para desenvolver o projeto\n",
    "import pandas as pd # Importei a biblioteca panda para trabalhar com as tabelas de dados\n",
    "import numpy as np # Importei o numpy para fazer as operações numéricas\n",
    "import matplotlib.pyplot as plt # Importei o matplotlib pois é a bse para criar os gráficos\n",
    "import seaborn as sns # Importei a seaborn para criar gráficos mais bonitos em cima do matplotlib"
   ]
  },
  {
   "cell_type": "code",
   "execution_count": null,
   "id": "ce10be68-b7be-44e2-853e-9c482149d436",
   "metadata": {},
   "outputs": [],
   "source": []
  }
 ],
 "metadata": {
  "kernelspec": {
   "display_name": "Python 3 (ipykernel)",
   "language": "python",
   "name": "python3"
  },
  "language_info": {
   "codemirror_mode": {
    "name": "ipython",
    "version": 3
   },
   "file_extension": ".py",
   "mimetype": "text/x-python",
   "name": "python",
   "nbconvert_exporter": "python",
   "pygments_lexer": "ipython3",
   "version": "3.13.5"
  }
 },
 "nbformat": 4,
 "nbformat_minor": 5
}
