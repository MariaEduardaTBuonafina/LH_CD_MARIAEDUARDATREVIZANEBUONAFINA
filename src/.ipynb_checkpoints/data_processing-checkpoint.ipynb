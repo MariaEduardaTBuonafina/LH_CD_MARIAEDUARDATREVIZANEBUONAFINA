{
 "cells": [
  {
   "cell_type": "code",
   "execution_count": 1,
   "id": "bfcba89c-01cf-45e9-b888-44b285b9b92c",
   "metadata": {},
   "outputs": [],
   "source": [
    "# Primeiro aqui eu vou importar duas bibliotecas que vou usar nessa parte\n",
    "import pandas as pd\n",
    "import numpy as np"
   ]
  },
  {
   "cell_type": "code",
   "execution_count": 2,
   "id": "b45d7897-f7bb-409e-a09b-1839eefb71a7",
   "metadata": {},
   "outputs": [],
   "source": [
    "def load_and_clean_data(filepath):\n",
    "    \"\"\"\n",
    "    Essa função é para carregar o arquivo CSV e dentro dela eu fiz uma limpeza básica nos dados.\n",
    "    Eu fiz assim porque o arquivo ele tem algumas colunas com texto que precisam virar números,\n",
    "    e tem valores faltando que podem atrapalhar a análise se não tratar.\n",
    "    \"\"\"\n",
    "    # Aqui eu carreguei o arquivo CSV com pandas\n",
    "    df = pd.read_csv(filepath)\n",
    "\n",
    "    \n",
    "    # A coluna 'Runtime' veio com texto tipo '120 min', então eu tirei o ' min' para ficar só o número\n",
    "    # E depois eu converti para número inteiro, porque assim dá pra usar em análise e modelo\n",
    "    df['Runtime'] = df['Runtime'].str.replace(' min', '')\n",
    "    df['Runtime'] = pd.to_numeric(df['Runtime'], errors='coerce')  \n",
    "    # Esse 'coerce' ele transforma erros em NaN\n",
    "    \n",
    "    \n",
    "    # A coluna 'Gross' ela tem valores com vírgula, tipo '1,234,567', então eu tirei as vírgulas\n",
    "    # E depois eu converti para número, e os valores que não deram certo viraram NaN\n",
    "    df['Gross'] = df['Gross'].astype(str).str.replace(',', '', regex=False)\n",
    "    df['Gross'] = df['Gross'].replace('nan', np.nan)\n",
    "    df['Gross'] = pd.to_numeric(df['Gross'], errors='coerce')\n",
    "    \n",
    "    \n",
    "    # Aqeui eu preenchi os valores faltantes em 'Meta_score' e 'Gross' com a mediana,\n",
    "    # porque a mediana ela é menos afetada por valores que são muito altos ou baixos\n",
    "    df['Meta_score'].fillna(df['Meta_score'].median(), inplace=True)\n",
    "    df['Gross'].fillna(df['Gross'].median(), inplace=True)\n",
    "   \n",
    "    \n",
    "    # Na coluna 'Certificate' (que é a classificação etária), eu preenchi os valores faltantes com 'Não foi informado'\n",
    "    # porque ela é uma informação categórica e não podemos deixar vazia\n",
    "    df['Certificate'].fillna('Não foi informado', inplace=True)\n",
    "\n",
    "    \n",
    "    # Aqui eu removi as linhas que ficaram com 'Runtime' vazio, porque não dá pra usar sem essa informação\n",
    "    df = df.dropna(subset=['Runtime'])\n",
    "    \n",
    "    \n",
    "    # E aqui por último eu retornei o dataframe limpo para usar depois\n",
    "    return df"
   ]
  }
 ],
 "metadata": {
  "kernelspec": {
   "display_name": "Python 3 (ipykernel)",
   "language": "python",
   "name": "python3"
  },
  "language_info": {
   "codemirror_mode": {
    "name": "ipython",
    "version": 3
   },
   "file_extension": ".py",
   "mimetype": "text/x-python",
   "name": "python",
   "nbconvert_exporter": "python",
   "pygments_lexer": "ipython3",
   "version": "3.13.5"
  }
 },
 "nbformat": 4,
 "nbformat_minor": 5
}
