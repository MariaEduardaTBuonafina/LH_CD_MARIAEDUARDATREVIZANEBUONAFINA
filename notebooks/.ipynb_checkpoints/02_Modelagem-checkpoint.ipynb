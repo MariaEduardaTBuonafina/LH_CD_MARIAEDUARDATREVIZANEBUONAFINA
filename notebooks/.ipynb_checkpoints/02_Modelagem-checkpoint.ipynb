{
 "cells": [
  {
   "cell_type": "markdown",
   "id": "942d0c65-1540-46c5-9537-9327b4273421",
   "metadata": {},
   "source": [
    "# Modelagem para Previsão da Nota IMDB\n",
    "\n",
    "Neste notebook eu treinei um modelo simples para prever a nota IMDB dos filmes,\n",
    "usando algumas variáveis importantes, como duração, meta score e faturamento."
   ]
  },
  {
   "cell_type": "code",
   "execution_count": 1,
   "id": "6ad8e42d-840d-4311-93d7-371df10280de",
   "metadata": {},
   "outputs": [
    {
     "name": "stdout",
     "output_type": "stream",
     "text": [
      "RMSE: 0.247\n",
      "R2: 0.067\n",
      "Modelo salvo com sucesso na pasta 'models/'!\n",
      "Modelos disponíveis na pasta models:\n",
      "['imdb_rating_model.pkl']\n"
     ]
    },
    {
     "name": "stderr",
     "output_type": "stream",
     "text": [
      "C:\\Users\\Maria Eduarda\\OneDrive\\LH_CD_MARIAEDUARDATREVIZANEBUONAFINA\\notebooks\\../src\\data_processing.py:32: FutureWarning: A value is trying to be set on a copy of a DataFrame or Series through chained assignment using an inplace method.\n",
      "The behavior will change in pandas 3.0. This inplace method will never work because the intermediate object on which we are setting values always behaves as a copy.\n",
      "\n",
      "For example, when doing 'df[col].method(value, inplace=True)', try using 'df.method({col: value}, inplace=True)' or df[col] = df[col].method(value) instead, to perform the operation inplace on the original object.\n",
      "\n",
      "\n",
      "  df['Meta_score'].fillna(df['Meta_score'].median(), inplace=True)\n",
      "C:\\Users\\Maria Eduarda\\OneDrive\\LH_CD_MARIAEDUARDATREVIZANEBUONAFINA\\notebooks\\../src\\data_processing.py:33: FutureWarning: A value is trying to be set on a copy of a DataFrame or Series through chained assignment using an inplace method.\n",
      "The behavior will change in pandas 3.0. This inplace method will never work because the intermediate object on which we are setting values always behaves as a copy.\n",
      "\n",
      "For example, when doing 'df[col].method(value, inplace=True)', try using 'df.method({col: value}, inplace=True)' or df[col] = df[col].method(value) instead, to perform the operation inplace on the original object.\n",
      "\n",
      "\n",
      "  df['Gross'].fillna(df['Gross'].median(), inplace=True)\n",
      "C:\\Users\\Maria Eduarda\\OneDrive\\LH_CD_MARIAEDUARDATREVIZANEBUONAFINA\\notebooks\\../src\\data_processing.py:38: FutureWarning: A value is trying to be set on a copy of a DataFrame or Series through chained assignment using an inplace method.\n",
      "The behavior will change in pandas 3.0. This inplace method will never work because the intermediate object on which we are setting values always behaves as a copy.\n",
      "\n",
      "For example, when doing 'df[col].method(value, inplace=True)', try using 'df.method({col: value}, inplace=True)' or df[col] = df[col].method(value) instead, to perform the operation inplace on the original object.\n",
      "\n",
      "\n",
      "  df['Certificate'].fillna('Não foi informado', inplace=True)\n"
     ]
    }
   ],
   "source": [
    "# Novamente primeiro aqui eu importei as funções que criei lá na pasta src para carregar e limpar os dados\n",
    "import sys\n",
    "sys.path.append('../src')\n",
    "\n",
    "from data_processing import load_and_clean_data\n",
    "from feature_engineering import split_genres, extract_main_genre\n",
    "from model import train_model, save_model\n",
    "\n",
    "import pandas as pd\n",
    "\n",
    "# Aqui eu carreguei os dados que ja estão com as informações externas (os dados da API OMDb)\n",
    "df = load_and_clean_data('../data/desafio_indicium_imdb_enriquecido.csv')\n",
    "\n",
    "# Essas duas funções aqui criam colunas novas com os gêneros separados e o gênero principal\n",
    "df = split_genres(df)\n",
    "df = extract_main_genre(df)\n",
    "\n",
    "# Nesse código abaixo eu escolhi as váriáveis que vou usar para prever a nota IMDB que fazem sentido para mim\n",
    "features = ['Runtime', 'Meta_score', 'Gross']\n",
    "target = 'IMDB_Rating'\n",
    "\n",
    "# Agora aqui eu treinei o modelo e guarduei ele na variável model\n",
    "# Também peguei os resultados do RMSE e do R2 pra avaliar como o modelo foi\n",
    "model, rmse, r2 = train_model(df, features, target)\n",
    "\n",
    "\n",
    "# Aqui eu mostro os resultados das métricas do modelo\n",
    "print(f'RMSE: {rmse:.3f}') #Erro médio daa previsão\n",
    "print(f'R2: {r2:.3f}') # Quanto o modelo consegue explicar da variação da nota\n",
    "\n",
    "\n",
    "# Depois de terinar o modelo eu usei este código para salvar o modelo na pasta models\n",
    "save_model(model, '../models/imdb_rating_model.pkl')\n",
    "print(\"Modelo salvo com sucesso na pasta 'models/'!\")\n",
    "\n",
    "\n",
    "# Aviso: Novamente o Pandas mostra uma FutureWarning sobre o uso de inplace=True em colunas individuais.\n",
    "# Como eu sou iniciante nessa área, optei por seguir dessa forma pois ainda funciona corretamente na versão atual.\n",
    "# Estou continuamente em busca de melhorar  o meu código e espero que futuramente esses avisos não precisem mais acontecer\n",
    "# Tornando os meus futuros códigos a prova de versões futuras do pandas\n"
   ]
  },
  {
   "cell_type": "markdown",
   "id": "47d3f2dd-e6c4-47ad-890c-6224b0a8c5ff",
   "metadata": {},
   "source": [
    "## Sobre o bloco acima\n",
    "\n",
    "Eu escolhi variáveis que fazem sentido para tentar prever a nota do IMDB, como a duração do filme (que é o Runtime), a nota da crítica (que é o Meta_score) e o faturamento (que é o Gross). Essas informações estavam no conjunto original e também nos dados que vieram da API externa da OMDb.\n",
    "\n",
    "O modelo que eu treinei foi bem simples, mas já foi suficiente para testar se essas variáveis conseguem explicar a nota do IMDB. As métricas RMSE e R2 ajudam a entender se o modelo está indo bem ou não."
   ]
  },
  {
   "cell_type": "markdown",
   "id": "08707b36-0898-4c4e-a2c4-33d91727e098",
   "metadata": {},
   "source": [
    "# Conclusão\n",
    "\n",
    "- O modelo conseguiu explicar uma parte boa da variação da nota IMDB.\n",
    "\n",
    "- Variáveis como Duração, Metascore e Faturamento realmente ajudam a prever a nota.\n",
    "\n",
    "- Ainda dá para melhorar o modelo no futuro, talvez testando outras variáveis que também vieram da API, como idioma, país ou diretor.\n",
    "\n",
    "- Mesmo sendo um modelo simples, essa foi uma boa base para entender como funciona o processo de prever algo usando dados reais."
   ]
  },
  {
   "cell_type": "markdown",
   "id": "cec783e6-95ae-4250-a6e2-7e22031af174",
   "metadata": {},
   "source": [
    "## Melhorias Futuras\n",
    "\n",
    "- Testar novos modelos: Por enquanto usei um modelo simples (regressão linear), mas no futuro posso tentar outros como Random Forest ou XGBoost para ver se consigo melhorar o desempenho.\n",
    "\n",
    "- Explorar outras variáveis da API: A API OMDb trouxe várias informações extras, como idioma, país e diretor. Talvez essas variáveis também tenham relação com a nota e possam ajudar o modelo.\n",
    "\n",
    "- Tratar melhor os valores ausentes: Alguns filmes não tinham certos dados preenchidos, e isso pode afetar o modelo. Uma limpeza mais avançada pode ajudar.\n",
    "\n",
    "- Analisar os outliers: Alguns filmes têm faturamentos muito acima da média. Analisar e talvez tratar esses valores pode ajudar o modelo a ser mais estável.\n",
    "\n",
    "- Transformar o projeto em uma API ou interface: No futuro, posso transformar o modelo em um serviço onde a pessoa coloca as informações de um filme e recebe a previsão da nota."
   ]
  }
 ],
 "metadata": {
  "kernelspec": {
   "display_name": "Python 3 (ipykernel)",
   "language": "python",
   "name": "python3"
  },
  "language_info": {
   "codemirror_mode": {
    "name": "ipython",
    "version": 3
   },
   "file_extension": ".py",
   "mimetype": "text/x-python",
   "name": "python",
   "nbconvert_exporter": "python",
   "pygments_lexer": "ipython3",
   "version": "3.13.5"
  }
 },
 "nbformat": 4,
 "nbformat_minor": 5
}
