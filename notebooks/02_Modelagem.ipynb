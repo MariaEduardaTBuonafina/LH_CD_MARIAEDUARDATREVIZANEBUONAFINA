{
 "cells": [
  {
   "cell_type": "markdown",
   "id": "942d0c65-1540-46c5-9537-9327b4273421",
   "metadata": {},
   "source": [
    "# Modelagem para Previsão da Nota IMDB\n",
    "\n",
    "Neste notebook eu treinei um modelo simples para prever a nota IMDB dos filmes,\n",
    "usando algumas variáveis importantes, como duração, meta score e faturamento."
   ]
  },
  {
   "cell_type": "code",
   "execution_count": 1,
   "id": "6ad8e42d-840d-4311-93d7-371df10280de",
   "metadata": {},
   "outputs": [],
   "source": [
    "# Novamente primeiro aqui eu importei as funções que criei no src para carregar e limpar os dados\n",
    "import sys\n",
    "sys.path.append('../src')\n",
    "\n",
    "from data_processing import load_and_clean_data\n",
    "from feature_engineering import split_genres, extract_main_genre\n",
    "from model import train_model, save_model\n",
    "\n",
    "import pandas as pd\n",
    "\n",
    "# Aqui eu carreguei e preparei os dados\n",
    "df = load_and_clean_data('../data/desafio_indicium_imdb.csv')\n",
    "df = split_genres(df)\n",
    "df = extract_main_genre(df)"
   ]
  },
  {
   "cell_type": "code",
   "execution_count": null,
   "id": "98e7b397-921d-40d3-9648-11057110edd7",
   "metadata": {},
   "outputs": [],
   "source": []
  }
 ],
 "metadata": {
  "kernelspec": {
   "display_name": "Python 3 (ipykernel)",
   "language": "python",
   "name": "python3"
  },
  "language_info": {
   "codemirror_mode": {
    "name": "ipython",
    "version": 3
   },
   "file_extension": ".py",
   "mimetype": "text/x-python",
   "name": "python",
   "nbconvert_exporter": "python",
   "pygments_lexer": "ipython3",
   "version": "3.13.5"
  }
 },
 "nbformat": 4,
 "nbformat_minor": 5
}
