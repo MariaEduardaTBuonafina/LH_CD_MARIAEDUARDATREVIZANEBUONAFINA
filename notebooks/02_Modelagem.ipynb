{
 "cells": [
  {
   "cell_type": "markdown",
   "id": "942d0c65-1540-46c5-9537-9327b4273421",
   "metadata": {},
   "source": [
    "# Modelagem para Previsão da Nota IMDB\n",
    "\n",
    "Neste notebook eu treinei um modelo simples para prever a nota IMDB dos filmes,\n",
    "usando algumas variáveis importantes, como duração, meta score e faturamento."
   ]
  },
  {
   "cell_type": "code",
   "execution_count": 2,
   "id": "6ad8e42d-840d-4311-93d7-371df10280de",
   "metadata": {},
   "outputs": [
    {
     "name": "stderr",
     "output_type": "stream",
     "text": [
      "C:\\Users\\Maria Eduarda\\OneDrive\\LH_CD_MARIAEDUARDATREVIZANEBUONAFINA\\notebooks\\../src\\data_processing.py:32: FutureWarning: A value is trying to be set on a copy of a DataFrame or Series through chained assignment using an inplace method.\n",
      "The behavior will change in pandas 3.0. This inplace method will never work because the intermediate object on which we are setting values always behaves as a copy.\n",
      "\n",
      "For example, when doing 'df[col].method(value, inplace=True)', try using 'df.method({col: value}, inplace=True)' or df[col] = df[col].method(value) instead, to perform the operation inplace on the original object.\n",
      "\n",
      "\n",
      "  df['Meta_score'].fillna(df['Meta_score'].median(), inplace=True)\n",
      "C:\\Users\\Maria Eduarda\\OneDrive\\LH_CD_MARIAEDUARDATREVIZANEBUONAFINA\\notebooks\\../src\\data_processing.py:33: FutureWarning: A value is trying to be set on a copy of a DataFrame or Series through chained assignment using an inplace method.\n",
      "The behavior will change in pandas 3.0. This inplace method will never work because the intermediate object on which we are setting values always behaves as a copy.\n",
      "\n",
      "For example, when doing 'df[col].method(value, inplace=True)', try using 'df.method({col: value}, inplace=True)' or df[col] = df[col].method(value) instead, to perform the operation inplace on the original object.\n",
      "\n",
      "\n",
      "  df['Gross'].fillna(df['Gross'].median(), inplace=True)\n",
      "C:\\Users\\Maria Eduarda\\OneDrive\\LH_CD_MARIAEDUARDATREVIZANEBUONAFINA\\notebooks\\../src\\data_processing.py:38: FutureWarning: A value is trying to be set on a copy of a DataFrame or Series through chained assignment using an inplace method.\n",
      "The behavior will change in pandas 3.0. This inplace method will never work because the intermediate object on which we are setting values always behaves as a copy.\n",
      "\n",
      "For example, when doing 'df[col].method(value, inplace=True)', try using 'df.method({col: value}, inplace=True)' or df[col] = df[col].method(value) instead, to perform the operation inplace on the original object.\n",
      "\n",
      "\n",
      "  df['Certificate'].fillna('Não foi informado', inplace=True)\n"
     ]
    }
   ],
   "source": [
    "# Novamente primeiro aqui eu importei as funções que criei no src para carregar e limpar os dados\n",
    "import sys\n",
    "sys.path.append('../src')\n",
    "\n",
    "from data_processing import load_and_clean_data\n",
    "from feature_engineering import split_genres, extract_main_genre\n",
    "from model import train_model, save_model\n",
    "\n",
    "import pandas as pd\n",
    "\n",
    "# Aqui eu carreguei e preparei os dados\n",
    "df = load_and_clean_data('../data/desafio_indicium_imdb.csv')\n",
    "df = split_genres(df)\n",
    "df = extract_main_genre(df)\n",
    "\n",
    "# Nesse código abaixo eu escolhi as váriáveis que vou usar para prever a nota IMDB\n",
    "features = ['Runtime', 'Meta_score', 'Gross']\n",
    "target = 'IMDB_Rating'\n",
    "\n",
    "# Aqui eu treinei o modelo e e peguei as métricas para avliar\n",
    "model, rmse, r2 = train_model(df, features, target)\n",
    "\n",
    "print(f'RMSE: {rmse:.3f}') #Erro médio das previsões\n",
    "print(f'R2: {r2:.3f}') # Quanto o modelo explica da variação\n",
    "\n",
    "# Nesse"
   ]
  },
  {
   "cell_type": "code",
   "execution_count": null,
   "id": "98e7b397-921d-40d3-9648-11057110edd7",
   "metadata": {},
   "outputs": [],
   "source": []
  }
 ],
 "metadata": {
  "kernelspec": {
   "display_name": "Python 3 (ipykernel)",
   "language": "python",
   "name": "python3"
  },
  "language_info": {
   "codemirror_mode": {
    "name": "ipython",
    "version": 3
   },
   "file_extension": ".py",
   "mimetype": "text/x-python",
   "name": "python",
   "nbconvert_exporter": "python",
   "pygments_lexer": "ipython3",
   "version": "3.13.5"
  }
 },
 "nbformat": 4,
 "nbformat_minor": 5
}
