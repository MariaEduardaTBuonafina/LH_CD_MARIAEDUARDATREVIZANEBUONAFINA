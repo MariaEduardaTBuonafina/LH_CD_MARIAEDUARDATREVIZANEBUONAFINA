{
 "cells": [
  {
   "cell_type": "code",
   "execution_count": 1,
   "id": "8d2c93c7-c308-4b2c-bcdf-d65908708e9d",
   "metadata": {},
   "outputs": [],
   "source": [
    "def split_genres(df):\n",
    "    \"\"\"\n",
    "    Aqui eu criei uma função para transformar a coluna 'Genre' que vem como texto\n",
    "    separado por vírgula em uma lista de gêneros. Isso ajuda a analisar os gêneros\n",
    "    individualmente depois.\n",
    "    \"\"\"\n",
    "\n",
    "    # Aqui eu usei o split para separar os gêneros em uma lista\n",
    "    df['Genre_list'] = df['Genre'].str.split(', ')\n",
    "    return df"
   ]
  }
 ],
 "metadata": {
  "kernelspec": {
   "display_name": "Python 3 (ipykernel)",
   "language": "python",
   "name": "python3"
  },
  "language_info": {
   "codemirror_mode": {
    "name": "ipython",
    "version": 3
   },
   "file_extension": ".py",
   "mimetype": "text/x-python",
   "name": "python",
   "nbconvert_exporter": "python",
   "pygments_lexer": "ipython3",
   "version": "3.13.5"
  }
 },
 "nbformat": 4,
 "nbformat_minor": 5
}
